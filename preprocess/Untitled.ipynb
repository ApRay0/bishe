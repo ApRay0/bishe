{
 "cells": [
  {
   "cell_type": "code",
   "execution_count": null,
   "id": "2eef2440",
   "metadata": {},
   "outputs": [],
   "source": [
    "from transformers import RobertaTokenizer, BartTokenizer, BertTokenizer\n",
    "from transformers import BartForConditionalGeneration"
   ]
  },
  {
   "cell_type": "code",
   "execution_count": null,
   "id": "6eef2372",
   "metadata": {},
   "outputs": [],
   "source": [
    "model = BartForConditionalGeneration.from_pretrained('facebook/bart-large')\n",
    "model.save_pretrained(\"../../pretrained_model/bart-large\")\n"
   ]
  },
  {
   "cell_type": "code",
   "execution_count": 5,
   "id": "2624cca0",
   "metadata": {},
   "outputs": [],
   "source": [
    "tokenizer.save_pretrained(\"../../pretrained-model/bart-large\")\n",
    "tokenizer = BartTokenizer.from_pretrained('facebook/bart-large')"
   ]
  },
  {
   "cell_type": "code",
   "execution_count": null,
   "id": "96eec61e",
   "metadata": {},
   "outputs": [],
   "source": []
  }
 ],
 "metadata": {
  "kernelspec": {
   "display_name": "Python 3 (ipykernel)",
   "language": "python",
   "name": "python3"
  },
  "language_info": {
   "codemirror_mode": {
    "name": "ipython",
    "version": 3
   },
   "file_extension": ".py",
   "mimetype": "text/x-python",
   "name": "python",
   "nbconvert_exporter": "python",
   "pygments_lexer": "ipython3",
   "version": "3.7.13"
  }
 },
 "nbformat": 4,
 "nbformat_minor": 5
}
