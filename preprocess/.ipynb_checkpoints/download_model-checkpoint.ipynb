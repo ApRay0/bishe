{
 "cells": [
  {
   "cell_type": "code",
   "execution_count": 3,
   "id": "2eef2440",
   "metadata": {},
   "outputs": [],
   "source": [
    "from transformers import RobertaTokenizer, BartTokenizer, BertTokenizer\n",
    "from transformers import BartForConditionalGeneration"
   ]
  },
  {
   "cell_type": "code",
   "execution_count": 4,
   "id": "6eef2372",
   "metadata": {},
   "outputs": [
    {
     "data": {
      "application/vnd.jupyter.widget-view+json": {
       "model_id": "1d4e7c3e860f4a4b95b8468e79c2619f",
       "version_major": 2,
       "version_minor": 0
      },
      "text/plain": [
       "Downloading:   0%|          | 0.00/1.59k [00:00<?, ?B/s]"
      ]
     },
     "metadata": {},
     "output_type": "display_data"
    },
    {
     "data": {
      "application/vnd.jupyter.widget-view+json": {
       "model_id": "efc110fa1ea74b6db1e234101da16143",
       "version_major": 2,
       "version_minor": 0
      },
      "text/plain": [
       "Downloading:   0%|          | 0.00/971M [00:00<?, ?B/s]"
      ]
     },
     "metadata": {},
     "output_type": "display_data"
    }
   ],
   "source": [
    "model = BartForConditionalGeneration.from_pretrained('facebook/bart-large')\n",
    "model.save_pretrained(\"../../pretrained_model/bart-large\")\n"
   ]
  },
  {
   "cell_type": "code",
   "execution_count": 7,
   "id": "2624cca0",
   "metadata": {},
   "outputs": [
    {
     "data": {
      "text/plain": [
       "('../../pretrained_model/bart-large/tokenizer_config.json',\n",
       " '../../pretrained_model/bart-large/special_tokens_map.json',\n",
       " '../../pretrained_model/bart-large/vocab.json',\n",
       " '../../pretrained_model/bart-large/merges.txt',\n",
       " '../../pretrained_model/bart-large/added_tokens.json')"
      ]
     },
     "execution_count": 7,
     "metadata": {},
     "output_type": "execute_result"
    }
   ],
   "source": [
    "tokenizer = BartTokenizer.from_pretrained('facebook/bart-large')\n",
    "tokenizer.save_pretrained(\"../../pretrained_model/bart-large\")"
   ]
  },
  {
   "cell_type": "code",
   "execution_count": null,
   "id": "96eec61e",
   "metadata": {},
   "outputs": [],
   "source": []
  }
 ],
 "metadata": {
  "kernelspec": {
   "display_name": "Python 3 (ipykernel)",
   "language": "python",
   "name": "python3"
  },
  "language_info": {
   "codemirror_mode": {
    "name": "ipython",
    "version": 3
   },
   "file_extension": ".py",
   "mimetype": "text/x-python",
   "name": "python",
   "nbconvert_exporter": "python",
   "pygments_lexer": "ipython3",
   "version": "3.7.13"
  }
 },
 "nbformat": 4,
 "nbformat_minor": 5
}
