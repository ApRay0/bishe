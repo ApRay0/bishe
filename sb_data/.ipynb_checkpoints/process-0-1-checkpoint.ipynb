{
 "cells": [
  {
   "cell_type": "code",
   "execution_count": 3,
   "id": "4fe2449a",
   "metadata": {},
   "outputs": [],
   "source": [
    "import os\n",
    "import operator"
   ]
  },
  {
   "cell_type": "code",
   "execution_count": 18,
   "id": "93cab3c3",
   "metadata": {},
   "outputs": [],
   "source": [
    "origin_data_path = './sb-process-0/'\n",
    "save_data_path = './sb-process-1/'\n",
    "filename = 'general.txt'"
   ]
  },
  {
   "cell_type": "code",
   "execution_count": 155,
   "id": "8b80bf51",
   "metadata": {},
   "outputs": [],
   "source": [
    "patterns = [\n",
    "    ['ref. ', 'refer to '],\n",
    "    ['ret. ', 'refer to '],\n",
    "    ['ref . ', 'refer to '],\n",
    "    ['sidewalll ', 'sidewall '],\n",
    "    ['alatforms ', 'platforms'],\n",
    "    ['passenger/crem ', 'passenger/crew '],\n",
    "    ['mat. ', 'material '],\n",
    "    ['de-energire ', 'de-energize '],\n",
    "    ['reneu ', 'renew '],\n",
    "    ['reaove ', 'remove '],\n",
    "    ['electricaly ', 'electrically '],\n",
    "    ['rcf. ', 'refer to '],\n",
    "    ['platformsin ', 'platforms in '],\n",
    "    ['circui.t ', 'circuit '],\n",
    "    ['cargo-compartment', 'cargo compartment'],\n",
    "    ['the\\'access ', 'the access ']\n",
    "    \n",
    "]"
   ]
  },
  {
   "cell_type": "code",
   "execution_count": 146,
   "id": "b294995c",
   "metadata": {},
   "outputs": [],
   "source": [
    "def replace_pattern(sentence, patterns):\n",
    "    for p in patterns:\n",
    "        sentence = sentence.replace(p[0], p[1])\n",
    "    return sentence"
   ]
  },
  {
   "cell_type": "code",
   "execution_count": 34,
   "id": "d6753071",
   "metadata": {},
   "outputs": [],
   "source": [
    "def delete_space(sentence):\n",
    "    while sentence[0] == ' ':\n",
    "        sentence = sentence[1:]\n",
    "    sentence.replace('  ', ' ')\n",
    "    return sentence    "
   ]
  },
  {
   "cell_type": "code",
   "execution_count": 118,
   "id": "eff3cb52",
   "metadata": {},
   "outputs": [],
   "source": [
    "def delete_brace(sentence):\n",
    "    short_txt = sentence[:8]\n",
    "    \n",
    "    if short_txt.find(')') != -1:\n",
    "        sentence = sentence[short_txt.find(')') + 1:]\n",
    "        \n",
    "    if sentence[0] == '(':\n",
    "        sentence = sentence[3:]\n",
    "    if sentence[0] < 'a' or sentence[0] > 'z':\n",
    "        sentence = sentence[1:]\n",
    "    return sentence\n",
    "    \n"
   ]
  },
  {
   "cell_type": "code",
   "execution_count": 156,
   "id": "40e9b148",
   "metadata": {},
   "outputs": [],
   "source": [
    "def process_line(dir_name, save_dir_name, file_name):\n",
    "    with open(dir_name + file_name, 'r') as f1:\n",
    "        with open(save_dir_name + file_name, 'w') as f2:\n",
    "            for l in f1.readlines():\n",
    "                if l == '\\n':\n",
    "                    continue\n",
    "                l = l.lower()\n",
    "                l = delete_brace(l)\n",
    "                l = delete_space(l)\n",
    "                l = replace_pattern(l, patterns)\n",
    "                f2.write(l)\n",
    "            "
   ]
  },
  {
   "cell_type": "code",
   "execution_count": 157,
   "id": "c1324614",
   "metadata": {
    "scrolled": false
   },
   "outputs": [],
   "source": [
    "process_line(origin_data_path, save_data_path, filename)"
   ]
  },
  {
   "cell_type": "code",
   "execution_count": 158,
   "id": "ae2ee2c3",
   "metadata": {},
   "outputs": [
    {
     "name": "stdout",
     "output_type": "stream",
     "text": [
      "'\n"
     ]
    }
   ],
   "source": [
    "print('\\'')"
   ]
  },
  {
   "cell_type": "code",
   "execution_count": null,
   "id": "42943d14",
   "metadata": {},
   "outputs": [],
   "source": []
  },
  {
   "cell_type": "code",
   "execution_count": null,
   "id": "2859e69b",
   "metadata": {},
   "outputs": [],
   "source": []
  },
  {
   "cell_type": "code",
   "execution_count": null,
   "id": "9f21e091",
   "metadata": {},
   "outputs": [],
   "source": []
  }
 ],
 "metadata": {
  "kernelspec": {
   "display_name": "Python 3 (ipykernel)",
   "language": "python",
   "name": "python3"
  },
  "language_info": {
   "codemirror_mode": {
    "name": "ipython",
    "version": 3
   },
   "file_extension": ".py",
   "mimetype": "text/x-python",
   "name": "python",
   "nbconvert_exporter": "python",
   "pygments_lexer": "ipython3",
   "version": "3.7.13"
  }
 },
 "nbformat": 4,
 "nbformat_minor": 5
}
