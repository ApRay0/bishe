{
 "cells": [
  {
   "cell_type": "code",
   "execution_count": 2,
   "id": "f62d8205",
   "metadata": {},
   "outputs": [],
   "source": [
    "import os\n",
    "import operator"
   ]
  },
  {
   "cell_type": "code",
   "execution_count": 3,
   "id": "0354ff4c",
   "metadata": {},
   "outputs": [],
   "source": [
    "origin_data_path = './sb-process-1/'\n",
    "save_data_path = './sb-process-2/'\n",
    "filename = 'general.txt'"
   ]
  },
  {
   "cell_type": "code",
   "execution_count": 4,
   "id": "88c18413",
   "metadata": {},
   "outputs": [],
   "source": [
    "def make_triple(e1, r1, e2):\n",
    "    res = []\n",
    "    res.append(e1)\n",
    "    res.append(r1)\n",
    "    res.append(e2)\n",
    "    return res"
   ]
  },
  {
   "cell_type": "code",
   "execution_count": 5,
   "id": "aa111469",
   "metadata": {},
   "outputs": [],
   "source": [
    "def make_data(origin_txt, triples):\n",
    "    pass"
   ]
  },
  {
   "cell_type": "code",
   "execution_count": 6,
   "id": "a49e2682",
   "metadata": {},
   "outputs": [],
   "source": [
    "heads = ['general stage']"
   ]
  },
  {
   "cell_type": "code",
   "execution_count": 7,
   "id": "0b4507c4",
   "metadata": {},
   "outputs": [],
   "source": [
    "realtions = [\n",
    "    'open', 'remove', 'put', 'install', 'ground', 'safety', 'tag', 'renew', 'deburr',\n",
    "    'torque', 'clean', 'loosen', 'shorten', 'apply', 'de-energize', \n",
    "]"
   ]
  },
  {
   "cell_type": "code",
   "execution_count": 8,
   "id": "ba1d16ea",
   "metadata": {},
   "outputs": [],
   "source": [
    "tails = [\n",
    "    'cargo compartment door', 'avionics compartment door', 'aircraft',\n",
    "    'access platform', 'aircraft electrical network', 'clamp', 'duct',\n",
    "    'oxygen mask', 'aircraft electrical circuit', 'surface', 'threaded component',\n",
    "    'passenger/crew door', 'access door', 'work area', 'warning notice', \n",
    "    'protective finish', 'galley unit', 'dome light', 'hole', 'rivet',\n",
    "    'electrical bonding', 'access panel', 'carpet', 'lavatory', 'galley unit',\n",
    "    'circuit breaker', \n",
    "]"
   ]
  },
  {
   "cell_type": "code",
   "execution_count": null,
   "id": "17778eaf",
   "metadata": {},
   "outputs": [],
   "source": []
  }
 ],
 "metadata": {
  "kernelspec": {
   "display_name": "Python 3 (ipykernel)",
   "language": "python",
   "name": "python3"
  },
  "language_info": {
   "codemirror_mode": {
    "name": "ipython",
    "version": 3
   },
   "file_extension": ".py",
   "mimetype": "text/x-python",
   "name": "python",
   "nbconvert_exporter": "python",
   "pygments_lexer": "ipython3",
   "version": "3.7.13"
  }
 },
 "nbformat": 4,
 "nbformat_minor": 5
}
