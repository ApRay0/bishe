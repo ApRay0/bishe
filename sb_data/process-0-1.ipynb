{
 "cells": [
  {
   "cell_type": "code",
   "execution_count": 3,
   "id": "b147f534",
   "metadata": {},
   "outputs": [],
   "source": [
    "import os\n",
    "import operator"
   ]
  },
  {
   "cell_type": "code",
   "execution_count": 181,
   "id": "d2302a08",
   "metadata": {},
   "outputs": [],
   "source": [
    "origin_data_path = './sb-process-0/'\n",
    "save_data_path = './sb-process-1/'\n",
    "file_name = 'modification.txt'\n",
    "file_names = ['general', 'modification', 'test', 'closeup']\n",
    "files = [x + '.txt' for x in file_names]"
   ]
  },
  {
   "cell_type": "code",
   "execution_count": 192,
   "id": "03863781",
   "metadata": {},
   "outputs": [],
   "source": [
    "def replace_pattern(sentence, patterns):\n",
    "    for p in patterns:\n",
    "        sentence = sentence.replace(p[0], p[1])\n",
    "    return sentence"
   ]
  },
  {
   "cell_type": "code",
   "execution_count": 193,
   "id": "6e529f1e",
   "metadata": {},
   "outputs": [],
   "source": [
    "def delete_space(sentence):\n",
    "    while sentence[0] == ' ':\n",
    "        sentence = sentence[1:]\n",
    "    sentence.replace('  ', ' ')\n",
    "    return sentence    "
   ]
  },
  {
   "cell_type": "code",
   "execution_count": 194,
   "id": "589fb992",
   "metadata": {},
   "outputs": [],
   "source": [
    "def delete_brace(sentence):\n",
    "    short_txt = sentence[:8]\n",
    "    \n",
    "    if short_txt.find(')') != -1:\n",
    "        sentence = sentence[short_txt.find(')') + 1:]\n",
    "        \n",
    "    if sentence[0] == '(':\n",
    "        sentence = sentence[3:]\n",
    "    if sentence[0] < 'a' or sentence[0] > 'z':\n",
    "        sentence = sentence[1:]\n",
    "    return sentence\n",
    "    \n"
   ]
  },
  {
   "cell_type": "code",
   "execution_count": 195,
   "id": "446bf8b1",
   "metadata": {},
   "outputs": [],
   "source": [
    "def process_line(dir_name, save_dir_name, file_name):\n",
    "    with open(dir_name + file_name, 'r') as f1:\n",
    "        with open(save_dir_name + file_name, 'w') as f2:\n",
    "            for l in f1.readlines():\n",
    "                if l == '\\n':\n",
    "                    continue\n",
    "                l = l.lower()\n",
    "                l = replace_pattern(l, patterns)\n",
    "                l = delete_brace(l)\n",
    "                l = delete_space(l)\n",
    "                \n",
    "                f2.write(l)\n",
    "            "
   ]
  },
  {
   "cell_type": "code",
   "execution_count": 199,
   "id": "f6ddf2dc",
   "metadata": {},
   "outputs": [],
   "source": [
    "patterns = [\n",
    "    ['ref. ', 'refer to '],\n",
    "    ['ret. ', 'refer to '],\n",
    "    ['ref . ', 'refer to '],\n",
    "    ['sidewalll ', 'sidewall '],\n",
    "    ['alatforms ', 'platforms'],\n",
    "    ['passenger/crem ', 'passenger/crew '],\n",
    "    ['mat. ', 'material '],\n",
    "    ['de-energire ', 'de-energize '],\n",
    "    ['reneu ', 'renew '],\n",
    "    ['reaove ', 'remove '],\n",
    "    ['electricaly ', 'electrically '],\n",
    "    ['rcf. ', 'refer to '],\n",
    "    ['platformsin ', 'platforms in '],\n",
    "    ['circui.t ', 'circuit '],\n",
    "    ['cargo-compartment', 'cargo compartment'],\n",
    "    ['the\\'access ', 'the access '],\n",
    "    ['itek ', 'item '],\n",
    "    ['renove ', 'remove '],\n",
    "    ['exisiting ', 'existing '],\n",
    "    ['iten ', 'item '],\n",
    "    ['renoval ', 'removal '],\n",
    "    ['reioval ', 'removal '],\n",
    "    ['iter ', 'item '],\n",
    "    ['ite> ', 'item' ],\n",
    "    ['itea', 'item '],\n",
    "    ['airleaks ', 'air leaks '],\n",
    "    ['diconnect ', 'disconnect '],\n",
    "    ['froa ', 'from '],\n",
    "    ['dril l ', 'drill '],\n",
    "    ['clipnut ', 'clip nut '],\n",
    "    ['debur ', 'deburr '],\n",
    "    ['le-ft ', 'left '],\n",
    "    ['betueen ', 'between '],\n",
    "    ['amt-icing ', 'anti-icing '],\n",
    "    ['a-ir ', 'air '],\n",
    "    ['temoerature ', 'temperature '],\n",
    "    ['re-identi ', 're-identify '],\n",
    "    ['rs-used ', 're-used '],\n",
    "    ['acces s ', 'access '],\n",
    "    ['ecam ', 'exam '],\n",
    "    ['> ', ') '],\n",
    "    ['i f ', 'if '],\n",
    "    ['^', '']\n",
    "]"
   ]
  },
  {
   "cell_type": "code",
   "execution_count": 200,
   "id": "03acdb18",
   "metadata": {
    "scrolled": false
   },
   "outputs": [],
   "source": [
    "for f in files:\n",
    "    process_line(origin_data_path, save_data_path, f) "
   ]
  },
  {
   "cell_type": "code",
   "execution_count": 158,
   "id": "f2afc38b",
   "metadata": {},
   "outputs": [
    {
     "name": "stdout",
     "output_type": "stream",
     "text": [
      "'\n"
     ]
    }
   ],
   "source": [
    "print('\\'')"
   ]
  },
  {
   "cell_type": "code",
   "execution_count": 170,
   "id": "4a1d20b9",
   "metadata": {},
   "outputs": [
    {
     "ename": "AttributeError",
     "evalue": "'str' object has no attribute 'remove'",
     "output_type": "error",
     "traceback": [
      "\u001b[0;31m---------------------------------------------------------------------------\u001b[0m",
      "\u001b[0;31mAttributeError\u001b[0m                            Traceback (most recent call last)",
      "\u001b[0;32m/var/folders/4y/hct1z7_52kq3gj_fnlhkmktc0000gn/T/ipykernel_39521/4019761814.py\u001b[0m in \u001b[0;36m<module>\u001b[0;34m\u001b[0m\n\u001b[1;32m      1\u001b[0m \u001b[0ms\u001b[0m \u001b[0;34m=\u001b[0m \u001b[0;34m'sdasdasdasdas'\u001b[0m\u001b[0;34m\u001b[0m\u001b[0;34m\u001b[0m\u001b[0m\n\u001b[0;32m----> 2\u001b[0;31m \u001b[0ms\u001b[0m\u001b[0;34m.\u001b[0m\u001b[0mremove\u001b[0m\u001b[0;34m(\u001b[0m\u001b[0;34m's'\u001b[0m\u001b[0;34m)\u001b[0m\u001b[0;34m\u001b[0m\u001b[0;34m\u001b[0m\u001b[0m\n\u001b[0m",
      "\u001b[0;31mAttributeError\u001b[0m: 'str' object has no attribute 'remove'"
     ]
    }
   ],
   "source": [
    "s = 'sdasdasdasdas'\n",
    "s.remove('s')"
   ]
  },
  {
   "cell_type": "code",
   "execution_count": null,
   "id": "28194ee4",
   "metadata": {},
   "outputs": [],
   "source": []
  },
  {
   "cell_type": "code",
   "execution_count": null,
   "id": "865d8093",
   "metadata": {},
   "outputs": [],
   "source": []
  }
 ],
 "metadata": {
  "kernelspec": {
   "display_name": "Python 3 (ipykernel)",
   "language": "python",
   "name": "python3"
  },
  "language_info": {
   "codemirror_mode": {
    "name": "ipython",
    "version": 3
   },
   "file_extension": ".py",
   "mimetype": "text/x-python",
   "name": "python",
   "nbconvert_exporter": "python",
   "pygments_lexer": "ipython3",
   "version": "3.7.13"
  }
 },
 "nbformat": 4,
 "nbformat_minor": 5
}
