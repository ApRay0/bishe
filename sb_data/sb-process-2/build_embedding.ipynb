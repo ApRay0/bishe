{
 "cells": [
  {
   "cell_type": "code",
   "execution_count": 3,
   "id": "4ab4e563",
   "metadata": {},
   "outputs": [],
   "source": [
    "import torch\n",
    "import pickle\n",
    "import numpy as np\n",
    "from transformers import BartForConditionalGeneration, BartTokenizer\n",
    "\n",
    "model = BartForConditionalGeneration.from_pretrained('../../pretrained_model/bart-large')\n",
    "tokenizer = BartTokenizer.from_pretrained('../../pretrained_model/bart-large')\n",
    "embedding = model.get_input_embeddings().weight\n",
    "\n",
    "\n",
    "vocab = pickle.load(open(\"node.pkl\", \"rb\"))\n",
    "\n",
    "my_embedding = []\n",
    "my_iddx = set()\n",
    "for token, idx in vocab.items():\n",
    "    iddx = tokenizer.convert_tokens_to_ids([token])[0]\n",
    "    my_iddx.add(iddx)\n",
    "    my_embedding.append(embedding[iddx])\n",
    "\n",
    "my_embedding = torch.stack(my_embedding, dim=0).detach().numpy()\n",
    "np.save(\"node_embeddings.npy\", my_embedding)\n",
    "\n",
    "\n"
   ]
  },
  {
   "cell_type": "code",
   "execution_count": null,
   "id": "2c1a7b41",
   "metadata": {},
   "outputs": [],
   "source": []
  }
 ],
 "metadata": {
  "kernelspec": {
   "display_name": "Python 3 (ipykernel)",
   "language": "python",
   "name": "python3"
  },
  "language_info": {
   "codemirror_mode": {
    "name": "ipython",
    "version": 3
   },
   "file_extension": ".py",
   "mimetype": "text/x-python",
   "name": "python",
   "nbconvert_exporter": "python",
   "pygments_lexer": "ipython3",
   "version": "3.7.13"
  }
 },
 "nbformat": 4,
 "nbformat_minor": 5
}
