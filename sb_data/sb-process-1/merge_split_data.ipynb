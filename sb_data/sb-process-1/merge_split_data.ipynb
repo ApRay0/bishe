{
 "cells": [
  {
   "cell_type": "code",
   "execution_count": 6,
   "id": "b19f643d",
   "metadata": {},
   "outputs": [],
   "source": [
    "import os\n",
    "import random"
   ]
  },
  {
   "cell_type": "code",
   "execution_count": 19,
   "id": "32655d0a",
   "metadata": {},
   "outputs": [
    {
     "data": {
      "text/plain": [
       "0.5582292394848759"
      ]
     },
     "execution_count": 19,
     "metadata": {},
     "output_type": "execute_result"
    }
   ],
   "source": [
    "random.random()"
   ]
  },
  {
   "cell_type": "code",
   "execution_count": 30,
   "id": "e4e1be69",
   "metadata": {},
   "outputs": [],
   "source": [
    "filenames = ['./closeup.txt', './modification.txt', './general.txt', './test.txt']\n",
    "out_file = './merge.txt'"
   ]
  },
  {
   "cell_type": "code",
   "execution_count": 27,
   "id": "d01b2806",
   "metadata": {},
   "outputs": [],
   "source": [
    "def merge_data():\n",
    "    for d in filenames:\n",
    "        with open(d, 'r') as f1:\n",
    "            with open(out_file, 'a') as f2:\n",
    "                for l in f1.readlines():\n",
    "#                     print(l)\n",
    "                    f2.write(l)\n",
    "                \n"
   ]
  },
  {
   "cell_type": "code",
   "execution_count": 44,
   "id": "273833ab",
   "metadata": {},
   "outputs": [],
   "source": [
    "def split_data():\n",
    "    with open(out_file, 'r') as f1:\n",
    "        for l in f1.readlines():\n",
    "            r = random.random()\n",
    "            if r > 0.2:\n",
    "                with open('train.txt', 'a') as f:\n",
    "                    f.write(l)\n",
    "            elif r > 0.1:\n",
    "                with open('test.txt', 'a') as f:\n",
    "                    f.write(l)\n",
    "            else:\n",
    "                with open('valid.txt', 'a') as f:\n",
    "                    f.write(l)\n",
    "        "
   ]
  },
  {
   "cell_type": "code",
   "execution_count": 45,
   "id": "c4ca89da",
   "metadata": {},
   "outputs": [],
   "source": [
    "merge_data()\n",
    "split_data()"
   ]
  },
  {
   "cell_type": "code",
   "execution_count": 43,
   "id": "e80ef0c6",
   "metadata": {},
   "outputs": [
    {
     "name": "stdout",
     "output_type": "stream",
     "text": [
      "1\n"
     ]
    }
   ],
   "source": [
    "if random.random() > 0.1:\n",
    "    print('1')"
   ]
  },
  {
   "cell_type": "code",
   "execution_count": null,
   "id": "234a19b2",
   "metadata": {},
   "outputs": [],
   "source": []
  }
 ],
 "metadata": {
  "kernelspec": {
   "display_name": "Python 3 (ipykernel)",
   "language": "python",
   "name": "python3"
  },
  "language_info": {
   "codemirror_mode": {
    "name": "ipython",
    "version": 3
   },
   "file_extension": ".py",
   "mimetype": "text/x-python",
   "name": "python",
   "nbconvert_exporter": "python",
   "pygments_lexer": "ipython3",
   "version": "3.7.13"
  }
 },
 "nbformat": 4,
 "nbformat_minor": 5
}
