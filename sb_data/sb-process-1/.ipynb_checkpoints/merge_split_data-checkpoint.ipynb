{
 "cells": [
  {
   "cell_type": "code",
   "execution_count": 1,
   "id": "b19f643d",
   "metadata": {},
   "outputs": [],
   "source": [
    "import os\n",
    "import random"
   ]
  },
  {
   "cell_type": "code",
   "execution_count": 2,
   "id": "613e582e",
   "metadata": {},
   "outputs": [
    {
     "data": {
      "text/plain": [
       "0.11661728354990897"
      ]
     },
     "execution_count": 2,
     "metadata": {},
     "output_type": "execute_result"
    }
   ],
   "source": []
  },
  {
   "cell_type": "code",
   "execution_count": 10,
   "id": "6b3c2687",
   "metadata": {},
   "outputs": [],
   "source": [
    "\n",
    "file_names = ['general', 'modification', 'test', 'closeup']\n",
    "files = [x + '.txt' for x in file_names]\n",
    "out_file = './merge.txt'"
   ]
  },
  {
   "cell_type": "code",
   "execution_count": 4,
   "id": "2acbdcc6",
   "metadata": {},
   "outputs": [],
   "source": [
    "def merge_data():\n",
    "    for d in filenames:\n",
    "        with open(d, 'r') as f1:\n",
    "            with open(out_file, 'a') as f2:\n",
    "                for l in f1.readlines():\n",
    "                    \n",
    "                    f2.write(l)\n",
    "                \n"
   ]
  },
  {
   "cell_type": "code",
   "execution_count": 8,
   "id": "360a9430",
   "metadata": {},
   "outputs": [],
   "source": [
    "def split_data():\n",
    "    with open(out_file, 'r') as f1:\n",
    "        with open('train.txt', 'w') as f2:\n",
    "            with open('test.txt', 'w') as f3:\n",
    "                with open('valid.txt', 'w') as f4:\n",
    "                    for l in f1.readlines():\n",
    "                        r = random.random()\n",
    "                        if r > 0.2:\n",
    "\n",
    "                            f2.write(l)\n",
    "                        elif r > 0.1:\n",
    "\n",
    "                            f3.write(l)\n",
    "                        else:\n",
    "\n",
    "                            f4.write(l)\n",
    "        "
   ]
  },
  {
   "cell_type": "code",
   "execution_count": 9,
   "id": "726d256d",
   "metadata": {},
   "outputs": [],
   "source": [
    "merge_data()\n",
    "split_data()"
   ]
  },
  {
   "cell_type": "code",
   "execution_count": null,
   "id": "a0cdd652",
   "metadata": {},
   "outputs": [],
   "source": []
  }
 ],
 "metadata": {
  "kernelspec": {
   "display_name": "Python 3 (ipykernel)",
   "language": "python",
   "name": "python3"
  },
  "language_info": {
   "codemirror_mode": {
    "name": "ipython",
    "version": 3
   },
   "file_extension": ".py",
   "mimetype": "text/x-python",
   "name": "python",
   "nbconvert_exporter": "python",
   "pygments_lexer": "ipython3",
   "version": "3.7.13"
  }
 },
 "nbformat": 4,
 "nbformat_minor": 5
}
