{
 "cells": [
  {
   "cell_type": "code",
   "execution_count": 3,
   "id": "3da3de6c",
   "metadata": {},
   "outputs": [],
   "source": [
    "from nltk.translate.bleu_score import sentence_bleu\n",
    "from rouge import Rouge"
   ]
  },
  {
   "cell_type": "code",
   "execution_count": 11,
   "id": "a4597676",
   "metadata": {},
   "outputs": [
    {
     "name": "stdout",
     "output_type": "stream",
     "text": [
      "[['the', 'cat', 'sat', 'on', 'the', 'mat']]\n",
      "['the', 'cat', 'is', 'on', 'the', 'mat']\n",
      "Cumulative 1-gram: 0.833333\n",
      "Cumulative 2-gram: 0.707107\n",
      "Cumulative 3-gram: 0.503478\n",
      "Cumulative 4-gram: 0.000000\n"
     ]
    }
   ],
   "source": [
    "l1 = 'the cat sat on the mat'  # target\n",
    "l2 = 'the cat is on the mat'  # inference\n",
    "reference = l1.split(' ')\n",
    "reference = [reference]\n",
    "candidate = l2.split(' ')\n",
    "print(reference)\n",
    "print(candidate)\n",
    "print('Cumulative 1-gram: %f' % sentence_bleu(reference, candidate, weights=(1, 0, 0, 0)))\n",
    "print('Cumulative 2-gram: %f' % sentence_bleu(reference, candidate, weights=(0.5, 0.5, 0, 0)))\n",
    "print('Cumulative 3-gram: %f' % sentence_bleu(reference, candidate, weights=(0.33, 0.33, 0.33, 0)))\n",
    "print('Cumulative 4-gram: %f' % sentence_bleu(reference, candidate, weights=(0.25, 0.25, 0.25, 0.25)))"
   ]
  },
  {
   "cell_type": "code",
   "execution_count": 6,
   "id": "ff378f36",
   "metadata": {},
   "outputs": [],
   "source": [
    "rouge = Rouge()\n",
    "scores = rouge.get_scores(candidate, reference)"
   ]
  },
  {
   "cell_type": "code",
   "execution_count": 7,
   "id": "cd30c2be",
   "metadata": {},
   "outputs": [
    {
     "data": {
      "text/plain": [
       "[{'rouge-1': {'r': 0.8, 'p': 0.8, 'f': 0.7999999950000002},\n",
       "  'rouge-2': {'r': 0.6, 'p': 0.6, 'f': 0.5999999950000001},\n",
       "  'rouge-l': {'r': 0.8, 'p': 0.8, 'f': 0.7999999950000002}}]"
      ]
     },
     "execution_count": 7,
     "metadata": {},
     "output_type": "execute_result"
    }
   ],
   "source": [
    "scores"
   ]
  },
  {
   "cell_type": "code",
   "execution_count": null,
   "id": "6d1dab43",
   "metadata": {},
   "outputs": [],
   "source": []
  }
 ],
 "metadata": {
  "kernelspec": {
   "display_name": "Python 3 (ipykernel)",
   "language": "python",
   "name": "python3"
  },
  "language_info": {
   "codemirror_mode": {
    "name": "ipython",
    "version": 3
   },
   "file_extension": ".py",
   "mimetype": "text/x-python",
   "name": "python",
   "nbconvert_exporter": "python",
   "pygments_lexer": "ipython3",
   "version": "3.7.13"
  }
 },
 "nbformat": 4,
 "nbformat_minor": 5
}
